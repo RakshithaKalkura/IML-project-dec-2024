{
 "cells": [
  {
   "cell_type": "markdown",
   "metadata": {},
   "source": [
    "# Combined dataset - Linearly Separable"
   ]
  },
  {
   "cell_type": "code",
   "execution_count": 2,
   "metadata": {},
   "outputs": [
    {
     "name": "stdout",
     "output_type": "stream",
     "text": [
      "Dataset created and saved as 'combined_dataset_train.txt'\n"
     ]
    }
   ],
   "source": [
    "import numpy as np\n",
    "import glob\n",
    "\n",
    "def create_dataset(file_paths, class_labels):\n",
    "    dataset = []\n",
    "    for file_path, class_label in zip(file_paths, class_labels):\n",
    "        with open(file_path, 'r') as file:\n",
    "            for line in file:\n",
    "                features = list(map(float, line.strip().split()))  # Read 2D features\n",
    "                features.append(class_label)  # Add class label as the third column\n",
    "                dataset.append(features)\n",
    "    return np.array(dataset)\n",
    "\n",
    "# Define file paths and corresponding class labels\n",
    "file_paths = [\n",
    "    'classification_datasets\\linearlySeparable\\class1_train.txt',  # path to the file for class 1\n",
    "    'classification_datasets\\linearlySeparable\\class2_train.txt',  # path to the file for class 2\n",
    "    'classification_datasets\\linearlySeparable\\class3_train.txt',  # path to the file for class 3\n",
    "    'classification_datasets\\linearlySeparable\\class4_train.txt'   # path to the file for class 4\n",
    "]\n",
    "class_labels = ['1', '2', '3', '4']\n",
    "\n",
    "# Create dataset\n",
    "dataset = create_dataset(file_paths, class_labels)\n",
    "\n",
    "# Save to a new file with 3 columns (2 features + 1 class label)\n",
    "np.savetxt('classification_datasets\\linearlySeparable\\combined_dataset_train.txt', dataset, fmt='%s', delimiter=' ')\n",
    "\n",
    "print(\"Dataset created and saved as 'combined_dataset_train.txt'\")\n"
   ]
  },
  {
   "cell_type": "code",
   "execution_count": 3,
   "metadata": {},
   "outputs": [
    {
     "name": "stdout",
     "output_type": "stream",
     "text": [
      "Dataset created and saved as 'combined_dataset_test.txt'\n"
     ]
    }
   ],
   "source": [
    "import numpy as np\n",
    "import glob\n",
    "\n",
    "def create_dataset(file_paths, class_labels):\n",
    "    dataset = []\n",
    "    for file_path, class_label in zip(file_paths, class_labels):\n",
    "        with open(file_path, 'r') as file:\n",
    "            for line in file:\n",
    "                features = list(map(float, line.strip().split()))  # Read 2D features\n",
    "                features.append(class_label)  # Add class label as the third column\n",
    "                dataset.append(features)\n",
    "    return np.array(dataset)\n",
    "\n",
    "# Define file paths and corresponding class labels\n",
    "file_paths = [\n",
    "    'classification_datasets\\linearlySeparable\\class1_test.txt',  # path to the file for class 1\n",
    "    'classification_datasets\\linearlySeparable\\class2_test.txt',  # path to the file for class 2\n",
    "    'classification_datasets\\linearlySeparable\\class3_test.txt',  # path to the file for class 3\n",
    "    'classification_datasets\\linearlySeparable\\class4_test.txt'   # path to the file for class 4\n",
    "]\n",
    "class_labels = ['1', '2', '3', '4']\n",
    "\n",
    "# Create dataset\n",
    "dataset = create_dataset(file_paths, class_labels)\n",
    "\n",
    "# Save to a new file with 3 columns (2 features + 1 class label)\n",
    "np.savetxt('classification_datasets\\linearlySeparable\\combined_dataset_test.txt', dataset, fmt='%s', delimiter=' ')\n",
    "\n",
    "print(\"Dataset created and saved as 'combined_dataset_test.txt'\")\n"
   ]
  },
  {
   "cell_type": "code",
   "execution_count": 4,
   "metadata": {},
   "outputs": [
    {
     "name": "stdout",
     "output_type": "stream",
     "text": [
      "Dataset created and saved as 'comb_dataset_val.txt'\n"
     ]
    }
   ],
   "source": [
    "import numpy as np\n",
    "import glob\n",
    "\n",
    "def create_dataset(file_paths, class_labels):\n",
    "    dataset = []\n",
    "    for file_path, class_label in zip(file_paths, class_labels):\n",
    "        with open(file_path, 'r') as file:\n",
    "            for line in file:\n",
    "                features = list(map(float, line.strip().split()))  # Read 2D features\n",
    "                features.append(class_label)  # Add class label as the third column\n",
    "                dataset.append(features)\n",
    "    return np.array(dataset)\n",
    "\n",
    "# Define file paths and corresponding class labels\n",
    "file_paths = [\n",
    "    'classification_datasets\\linearlySeparable\\class1_val.txt',  # path to the file for class 1\n",
    "    'classification_datasets\\linearlySeparable\\class2_val.txt',  # path to the file for class 2\n",
    "    'classification_datasets\\linearlySeparable\\class3_val.txt',  # path to the file for class 3\n",
    "    'classification_datasets\\linearlySeparable\\class4_val.txt'   # path to the file for class 4\n",
    "]\n",
    "class_labels = ['1', '2', '3', '4']\n",
    "\n",
    "# Create dataset\n",
    "dataset = create_dataset(file_paths, class_labels)\n",
    "\n",
    "# Save to a new file with 3 columns (2 features + 1 class label)\n",
    "np.savetxt('classification_datasets\\linearlySeparable\\comb_dataset_val.txt', dataset, fmt='%s', delimiter=' ')\n",
    "\n",
    "print(\"Dataset created and saved as 'comb_dataset_val.txt'\")\n"
   ]
  },
  {
   "cell_type": "markdown",
   "metadata": {},
   "source": [
    "# Combined dataset - Non-Linearly Seperable"
   ]
  },
  {
   "cell_type": "code",
   "execution_count": 2,
   "metadata": {},
   "outputs": [
    {
     "ename": "FileNotFoundError",
     "evalue": "[Errno 2] No such file or directory: 'classification_datasets\\\\nonLinearlySeparable\\\\class3_train.txt'",
     "output_type": "error",
     "traceback": [
      "\u001b[1;31m---------------------------------------------------------------------------\u001b[0m",
      "\u001b[1;31mFileNotFoundError\u001b[0m                         Traceback (most recent call last)",
      "Cell \u001b[1;32mIn[2], line 24\u001b[0m\n\u001b[0;32m     21\u001b[0m class_labels \u001b[38;5;241m=\u001b[39m [\u001b[38;5;124m'\u001b[39m\u001b[38;5;124m1\u001b[39m\u001b[38;5;124m'\u001b[39m, \u001b[38;5;124m'\u001b[39m\u001b[38;5;124m2\u001b[39m\u001b[38;5;124m'\u001b[39m, \u001b[38;5;124m'\u001b[39m\u001b[38;5;124m3\u001b[39m\u001b[38;5;124m'\u001b[39m, \u001b[38;5;124m'\u001b[39m\u001b[38;5;124m4\u001b[39m\u001b[38;5;124m'\u001b[39m]\n\u001b[0;32m     23\u001b[0m \u001b[38;5;66;03m# Create dataset\u001b[39;00m\n\u001b[1;32m---> 24\u001b[0m dataset \u001b[38;5;241m=\u001b[39m \u001b[43mcreate_dataset\u001b[49m\u001b[43m(\u001b[49m\u001b[43mfile_paths\u001b[49m\u001b[43m,\u001b[49m\u001b[43m \u001b[49m\u001b[43mclass_labels\u001b[49m\u001b[43m)\u001b[49m\n\u001b[0;32m     26\u001b[0m \u001b[38;5;66;03m# Save to a new file with 3 columns (2 features + 1 class label)\u001b[39;00m\n\u001b[0;32m     27\u001b[0m np\u001b[38;5;241m.\u001b[39msavetxt(\u001b[38;5;124mr\u001b[39m\u001b[38;5;124m'\u001b[39m\u001b[38;5;124mclassification_datasets\u001b[39m\u001b[38;5;124m\\\u001b[39m\u001b[38;5;124mnonLinearlySeparable\u001b[39m\u001b[38;5;124m\\\u001b[39m\u001b[38;5;124mcombined_dataset_train.txt\u001b[39m\u001b[38;5;124m'\u001b[39m, dataset, fmt\u001b[38;5;241m=\u001b[39m\u001b[38;5;124m'\u001b[39m\u001b[38;5;132;01m%s\u001b[39;00m\u001b[38;5;124m'\u001b[39m, delimiter\u001b[38;5;241m=\u001b[39m\u001b[38;5;124m'\u001b[39m\u001b[38;5;124m \u001b[39m\u001b[38;5;124m'\u001b[39m)\n",
      "Cell \u001b[1;32mIn[2], line 7\u001b[0m, in \u001b[0;36mcreate_dataset\u001b[1;34m(file_paths, class_labels)\u001b[0m\n\u001b[0;32m      5\u001b[0m dataset \u001b[38;5;241m=\u001b[39m []\n\u001b[0;32m      6\u001b[0m \u001b[38;5;28;01mfor\u001b[39;00m file_path, class_label \u001b[38;5;129;01min\u001b[39;00m \u001b[38;5;28mzip\u001b[39m(file_paths, class_labels):\n\u001b[1;32m----> 7\u001b[0m     \u001b[38;5;28;01mwith\u001b[39;00m \u001b[38;5;28;43mopen\u001b[39;49m\u001b[43m(\u001b[49m\u001b[43mfile_path\u001b[49m\u001b[43m,\u001b[49m\u001b[43m \u001b[49m\u001b[38;5;124;43m'\u001b[39;49m\u001b[38;5;124;43mr\u001b[39;49m\u001b[38;5;124;43m'\u001b[39;49m\u001b[43m)\u001b[49m \u001b[38;5;28;01mas\u001b[39;00m file:\n\u001b[0;32m      8\u001b[0m         \u001b[38;5;28;01mfor\u001b[39;00m line \u001b[38;5;129;01min\u001b[39;00m file:\n\u001b[0;32m      9\u001b[0m             features \u001b[38;5;241m=\u001b[39m \u001b[38;5;28mlist\u001b[39m(\u001b[38;5;28mmap\u001b[39m(\u001b[38;5;28mfloat\u001b[39m, line\u001b[38;5;241m.\u001b[39mstrip()\u001b[38;5;241m.\u001b[39msplit()))  \u001b[38;5;66;03m# Read 2D features\u001b[39;00m\n",
      "File \u001b[1;32mc:\\Users\\raksh\\anaconda3\\envs\\unet_env\\lib\\site-packages\\IPython\\core\\interactiveshell.py:310\u001b[0m, in \u001b[0;36m_modified_open\u001b[1;34m(file, *args, **kwargs)\u001b[0m\n\u001b[0;32m    303\u001b[0m \u001b[38;5;28;01mif\u001b[39;00m file \u001b[38;5;129;01min\u001b[39;00m {\u001b[38;5;241m0\u001b[39m, \u001b[38;5;241m1\u001b[39m, \u001b[38;5;241m2\u001b[39m}:\n\u001b[0;32m    304\u001b[0m     \u001b[38;5;28;01mraise\u001b[39;00m \u001b[38;5;167;01mValueError\u001b[39;00m(\n\u001b[0;32m    305\u001b[0m         \u001b[38;5;124mf\u001b[39m\u001b[38;5;124m\"\u001b[39m\u001b[38;5;124mIPython won\u001b[39m\u001b[38;5;124m'\u001b[39m\u001b[38;5;124mt let you open fd=\u001b[39m\u001b[38;5;132;01m{\u001b[39;00mfile\u001b[38;5;132;01m}\u001b[39;00m\u001b[38;5;124m by default \u001b[39m\u001b[38;5;124m\"\u001b[39m\n\u001b[0;32m    306\u001b[0m         \u001b[38;5;124m\"\u001b[39m\u001b[38;5;124mas it is likely to crash IPython. If you know what you are doing, \u001b[39m\u001b[38;5;124m\"\u001b[39m\n\u001b[0;32m    307\u001b[0m         \u001b[38;5;124m\"\u001b[39m\u001b[38;5;124myou can use builtins\u001b[39m\u001b[38;5;124m'\u001b[39m\u001b[38;5;124m open.\u001b[39m\u001b[38;5;124m\"\u001b[39m\n\u001b[0;32m    308\u001b[0m     )\n\u001b[1;32m--> 310\u001b[0m \u001b[38;5;28;01mreturn\u001b[39;00m io_open(file, \u001b[38;5;241m*\u001b[39margs, \u001b[38;5;241m*\u001b[39m\u001b[38;5;241m*\u001b[39mkwargs)\n",
      "\u001b[1;31mFileNotFoundError\u001b[0m: [Errno 2] No such file or directory: 'classification_datasets\\\\nonLinearlySeparable\\\\class3_train.txt'"
     ]
    }
   ],
   "source": [
    "import numpy as np\n",
    "import glob\n",
    "\n",
    "def create_dataset(file_paths, class_labels):\n",
    "    dataset = []\n",
    "    for file_path, class_label in zip(file_paths, class_labels):\n",
    "        with open(file_path, 'r') as file:\n",
    "            for line in file:\n",
    "                features = list(map(float, line.strip().split()))  # Read 2D features\n",
    "                features.append(class_label)  # Add class label as the third column\n",
    "                dataset.append(features)\n",
    "    return np.array(dataset)\n",
    "\n",
    "# Define file paths and corresponding class labels\n",
    "file_paths = [\n",
    "    r'classification_datasets\\nonLinearlySeparable\\class1_train.txt',  # path to the file for class 1\n",
    "    r'classification_datasets\\nonlinearlySeparable\\class2_train.txt',  # path to the file for class 2\n",
    "    r'classification_datasets\\nonLinearlySeparable\\class3_train.txt',  # path to the file for class 3\n",
    "    r'classification_datasets\\nonLinearlySeparable\\class4_train.txt'   # path to the file for class 4\n",
    "]\n",
    "class_labels = ['1', '2', '3', '4']\n",
    "\n",
    "# Create dataset\n",
    "dataset = create_dataset(file_paths, class_labels)\n",
    "\n",
    "# Save to a new file with 3 columns (2 features + 1 class label)\n",
    "np.savetxt(r'classification_datasets\\nonLinearlySeparable\\combined_dataset_train.txt', dataset, fmt='%s', delimiter=' ')\n",
    "\n",
    "print(\"Dataset created and saved as 'combined_dataset_train.txt'\")\n"
   ]
  },
  {
   "cell_type": "code",
   "execution_count": 5,
   "metadata": {},
   "outputs": [
    {
     "ename": "FileNotFoundError",
     "evalue": "[Errno 2] No such file or directory: 'classification_datasets\\\\nonLinearlySeparable\\\\class3_test.txt'",
     "output_type": "error",
     "traceback": [
      "\u001b[1;31m---------------------------------------------------------------------------\u001b[0m",
      "\u001b[1;31mFileNotFoundError\u001b[0m                         Traceback (most recent call last)",
      "Cell \u001b[1;32mIn[5], line 24\u001b[0m\n\u001b[0;32m     21\u001b[0m class_labels \u001b[38;5;241m=\u001b[39m [\u001b[38;5;124m'\u001b[39m\u001b[38;5;124m1\u001b[39m\u001b[38;5;124m'\u001b[39m, \u001b[38;5;124m'\u001b[39m\u001b[38;5;124m2\u001b[39m\u001b[38;5;124m'\u001b[39m, \u001b[38;5;124m'\u001b[39m\u001b[38;5;124m3\u001b[39m\u001b[38;5;124m'\u001b[39m, \u001b[38;5;124m'\u001b[39m\u001b[38;5;124m4\u001b[39m\u001b[38;5;124m'\u001b[39m]\n\u001b[0;32m     23\u001b[0m \u001b[38;5;66;03m# Create dataset\u001b[39;00m\n\u001b[1;32m---> 24\u001b[0m dataset \u001b[38;5;241m=\u001b[39m \u001b[43mcreate_dataset\u001b[49m\u001b[43m(\u001b[49m\u001b[43mfile_paths\u001b[49m\u001b[43m,\u001b[49m\u001b[43m \u001b[49m\u001b[43mclass_labels\u001b[49m\u001b[43m)\u001b[49m\n\u001b[0;32m     26\u001b[0m \u001b[38;5;66;03m# Save to a new file with 3 columns (2 features + 1 class label)\u001b[39;00m\n\u001b[0;32m     27\u001b[0m np\u001b[38;5;241m.\u001b[39msavetxt(\u001b[38;5;124mr\u001b[39m\u001b[38;5;124m'\u001b[39m\u001b[38;5;124mclassification_datasets\u001b[39m\u001b[38;5;124m\\\u001b[39m\u001b[38;5;124mnonLinearlySeparable\u001b[39m\u001b[38;5;124m\\\u001b[39m\u001b[38;5;124mcombined_dataset_test.txt\u001b[39m\u001b[38;5;124m'\u001b[39m, dataset, fmt\u001b[38;5;241m=\u001b[39m\u001b[38;5;124m'\u001b[39m\u001b[38;5;132;01m%s\u001b[39;00m\u001b[38;5;124m'\u001b[39m, delimiter\u001b[38;5;241m=\u001b[39m\u001b[38;5;124m'\u001b[39m\u001b[38;5;124m \u001b[39m\u001b[38;5;124m'\u001b[39m)\n",
      "Cell \u001b[1;32mIn[5], line 7\u001b[0m, in \u001b[0;36mcreate_dataset\u001b[1;34m(file_paths, class_labels)\u001b[0m\n\u001b[0;32m      5\u001b[0m dataset \u001b[38;5;241m=\u001b[39m []\n\u001b[0;32m      6\u001b[0m \u001b[38;5;28;01mfor\u001b[39;00m file_path, class_label \u001b[38;5;129;01min\u001b[39;00m \u001b[38;5;28mzip\u001b[39m(file_paths, class_labels):\n\u001b[1;32m----> 7\u001b[0m     \u001b[38;5;28;01mwith\u001b[39;00m \u001b[38;5;28;43mopen\u001b[39;49m\u001b[43m(\u001b[49m\u001b[43mfile_path\u001b[49m\u001b[43m,\u001b[49m\u001b[43m \u001b[49m\u001b[38;5;124;43m'\u001b[39;49m\u001b[38;5;124;43mr\u001b[39;49m\u001b[38;5;124;43m'\u001b[39;49m\u001b[43m)\u001b[49m \u001b[38;5;28;01mas\u001b[39;00m file:\n\u001b[0;32m      8\u001b[0m         \u001b[38;5;28;01mfor\u001b[39;00m line \u001b[38;5;129;01min\u001b[39;00m file:\n\u001b[0;32m      9\u001b[0m             features \u001b[38;5;241m=\u001b[39m \u001b[38;5;28mlist\u001b[39m(\u001b[38;5;28mmap\u001b[39m(\u001b[38;5;28mfloat\u001b[39m, line\u001b[38;5;241m.\u001b[39mstrip()\u001b[38;5;241m.\u001b[39msplit()))  \u001b[38;5;66;03m# Read 2D features\u001b[39;00m\n",
      "File \u001b[1;32mc:\\Users\\raksh\\anaconda3\\envs\\unet_env\\lib\\site-packages\\IPython\\core\\interactiveshell.py:310\u001b[0m, in \u001b[0;36m_modified_open\u001b[1;34m(file, *args, **kwargs)\u001b[0m\n\u001b[0;32m    303\u001b[0m \u001b[38;5;28;01mif\u001b[39;00m file \u001b[38;5;129;01min\u001b[39;00m {\u001b[38;5;241m0\u001b[39m, \u001b[38;5;241m1\u001b[39m, \u001b[38;5;241m2\u001b[39m}:\n\u001b[0;32m    304\u001b[0m     \u001b[38;5;28;01mraise\u001b[39;00m \u001b[38;5;167;01mValueError\u001b[39;00m(\n\u001b[0;32m    305\u001b[0m         \u001b[38;5;124mf\u001b[39m\u001b[38;5;124m\"\u001b[39m\u001b[38;5;124mIPython won\u001b[39m\u001b[38;5;124m'\u001b[39m\u001b[38;5;124mt let you open fd=\u001b[39m\u001b[38;5;132;01m{\u001b[39;00mfile\u001b[38;5;132;01m}\u001b[39;00m\u001b[38;5;124m by default \u001b[39m\u001b[38;5;124m\"\u001b[39m\n\u001b[0;32m    306\u001b[0m         \u001b[38;5;124m\"\u001b[39m\u001b[38;5;124mas it is likely to crash IPython. If you know what you are doing, \u001b[39m\u001b[38;5;124m\"\u001b[39m\n\u001b[0;32m    307\u001b[0m         \u001b[38;5;124m\"\u001b[39m\u001b[38;5;124myou can use builtins\u001b[39m\u001b[38;5;124m'\u001b[39m\u001b[38;5;124m open.\u001b[39m\u001b[38;5;124m\"\u001b[39m\n\u001b[0;32m    308\u001b[0m     )\n\u001b[1;32m--> 310\u001b[0m \u001b[38;5;28;01mreturn\u001b[39;00m io_open(file, \u001b[38;5;241m*\u001b[39margs, \u001b[38;5;241m*\u001b[39m\u001b[38;5;241m*\u001b[39mkwargs)\n",
      "\u001b[1;31mFileNotFoundError\u001b[0m: [Errno 2] No such file or directory: 'classification_datasets\\\\nonLinearlySeparable\\\\class3_test.txt'"
     ]
    }
   ],
   "source": [
    "import numpy as np\n",
    "import glob\n",
    "\n",
    "def create_dataset(file_paths, class_labels):\n",
    "    dataset = []\n",
    "    for file_path, class_label in zip(file_paths, class_labels):\n",
    "        with open(file_path, 'r') as file:\n",
    "            for line in file:\n",
    "                features = list(map(float, line.strip().split()))  # Read 2D features\n",
    "                features.append(class_label)  # Add class label as the third column\n",
    "                dataset.append(features)\n",
    "    return np.array(dataset)\n",
    "\n",
    "# Define file paths and corresponding class labels\n",
    "file_paths = [\n",
    "    r'classification_datasets\\nonLinearlySeparable\\class1_test.txt',  # path to the file for class 1\n",
    "    r'classification_datasets\\nonlinearlySeparable\\class2_test.txt',  # path to the file for class 2\n",
    "    r'classification_datasets\\nonLinearlySeparable\\class3_test.txt',  # path to the file for class 3\n",
    "   r'classification_datasets\\nonLinearlySeparable\\class4_test.txt'   # path to the file for class 4\n",
    "]\n",
    "class_labels = ['1', '2', '3', '4']\n",
    "\n",
    "# Create dataset\n",
    "dataset = create_dataset(file_paths, class_labels)\n",
    "\n",
    "# Save to a new file with 3 columns (2 features + 1 class label)\n",
    "np.savetxt(r'classification_datasets\\nonLinearlySeparable\\combined_dataset_test.txt', dataset, fmt='%s', delimiter=' ')\n",
    "\n",
    "print(\"Dataset created and saved as 'combined_dataset_test.txt'\")\n"
   ]
  },
  {
   "cell_type": "code",
   "execution_count": null,
   "metadata": {},
   "outputs": [],
   "source": [
    "import numpy as np\n",
    "import glob\n",
    "\n",
    "def create_dataset(file_paths, class_labels):\n",
    "    dataset = []\n",
    "    for file_path, class_label in zip(file_paths, class_labels):\n",
    "        with open(file_path, 'r') as file:\n",
    "            for line in file:\n",
    "                features = list(map(float, line.strip().split()))  # Read 2D features\n",
    "                features.append(class_label)  # Add class label as the third column\n",
    "                dataset.append(features)\n",
    "    return np.array(dataset)\n",
    "\n",
    "# Define file paths and corresponding class labels\n",
    "file_paths = [\n",
    "    r'classification_datasets\\nonLinearlySeparable\\class1_val.txt',  # path to the file for class 1\n",
    "    r'classification_datasets\\nonlinearlySeparable\\class2_val.txt',  # path to the file for class 2\n",
    "    r'classification_datasets\\nonLinearlySeparable\\class3_val.txt',  # path to the file for class 3\n",
    "   r'classification_datasets\\nonLinearlySeparable\\class4_val.txt'   # path to the file for class 4\n",
    "]\n",
    "class_labels = ['1', '2', '3', '4']\n",
    "\n",
    "# Create dataset\n",
    "dataset = create_dataset(file_paths, class_labels)\n",
    "\n",
    "# Save to a new file with 3 columns (2 features + 1 class label)\n",
    "np.savetxt(r'classification_datasets\\nonLinearlySeparable\\combined_dataset_val.txt', dataset, fmt='%s', delimiter=' ')\n",
    "\n",
    "print(\"Dataset created and saved as 'combined_dataset_val.txt'\")\n"
   ]
  }
 ],
 "metadata": {
  "kernelspec": {
   "display_name": "unet_env",
   "language": "python",
   "name": "python3"
  },
  "language_info": {
   "codemirror_mode": {
    "name": "ipython",
    "version": 3
   },
   "file_extension": ".py",
   "mimetype": "text/x-python",
   "name": "python",
   "nbconvert_exporter": "python",
   "pygments_lexer": "ipython3",
   "version": "3.9.19"
  }
 },
 "nbformat": 4,
 "nbformat_minor": 2
}
