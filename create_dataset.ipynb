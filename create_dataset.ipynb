{
 "cells": [
  {
   "cell_type": "code",
   "execution_count": 2,
   "metadata": {},
   "outputs": [
    {
     "name": "stdout",
     "output_type": "stream",
     "text": [
      "Dataset created and saved as 'combined_dataset_train.txt'\n"
     ]
    }
   ],
   "source": [
    "import numpy as np\n",
    "import glob\n",
    "\n",
    "def create_dataset(file_paths, class_labels):\n",
    "    dataset = []\n",
    "    for file_path, class_label in zip(file_paths, class_labels):\n",
    "        with open(file_path, 'r') as file:\n",
    "            for line in file:\n",
    "                features = list(map(float, line.strip().split()))  # Read 2D features\n",
    "                features.append(class_label)  # Add class label as the third column\n",
    "                dataset.append(features)\n",
    "    return np.array(dataset)\n",
    "\n",
    "# Define file paths and corresponding class labels\n",
    "file_paths = [\n",
    "    'classification_datasets\\linearlySeparable\\class1_train.txt',  # path to the file for class 1\n",
    "    'classification_datasets\\linearlySeparable\\class2_train.txt',  # path to the file for class 2\n",
    "    'classification_datasets\\linearlySeparable\\class3_train.txt',  # path to the file for class 3\n",
    "    'classification_datasets\\linearlySeparable\\class4_train.txt'   # path to the file for class 4\n",
    "]\n",
    "class_labels = ['1', '2', '3', '4']\n",
    "\n",
    "# Create dataset\n",
    "dataset = create_dataset(file_paths, class_labels)\n",
    "\n",
    "# Save to a new file with 3 columns (2 features + 1 class label)\n",
    "np.savetxt('classification_datasets\\linearlySeparable\\combined_dataset_train.txt', dataset, fmt='%s', delimiter=' ')\n",
    "\n",
    "print(\"Dataset created and saved as 'combined_dataset_train.txt'\")\n"
   ]
  },
  {
   "cell_type": "code",
   "execution_count": 3,
   "metadata": {},
   "outputs": [
    {
     "name": "stdout",
     "output_type": "stream",
     "text": [
      "Dataset created and saved as 'combined_dataset_test.txt'\n"
     ]
    }
   ],
   "source": [
    "import numpy as np\n",
    "import glob\n",
    "\n",
    "def create_dataset(file_paths, class_labels):\n",
    "    dataset = []\n",
    "    for file_path, class_label in zip(file_paths, class_labels):\n",
    "        with open(file_path, 'r') as file:\n",
    "            for line in file:\n",
    "                features = list(map(float, line.strip().split()))  # Read 2D features\n",
    "                features.append(class_label)  # Add class label as the third column\n",
    "                dataset.append(features)\n",
    "    return np.array(dataset)\n",
    "\n",
    "# Define file paths and corresponding class labels\n",
    "file_paths = [\n",
    "    'classification_datasets\\linearlySeparable\\class1_test.txt',  # path to the file for class 1\n",
    "    'classification_datasets\\linearlySeparable\\class2_test.txt',  # path to the file for class 2\n",
    "    'classification_datasets\\linearlySeparable\\class3_test.txt',  # path to the file for class 3\n",
    "    'classification_datasets\\linearlySeparable\\class4_test.txt'   # path to the file for class 4\n",
    "]\n",
    "class_labels = ['1', '2', '3', '4']\n",
    "\n",
    "# Create dataset\n",
    "dataset = create_dataset(file_paths, class_labels)\n",
    "\n",
    "# Save to a new file with 3 columns (2 features + 1 class label)\n",
    "np.savetxt('classification_datasets\\linearlySeparable\\combined_dataset_test.txt', dataset, fmt='%s', delimiter=' ')\n",
    "\n",
    "print(\"Dataset created and saved as 'combined_dataset_test.txt'\")\n"
   ]
  },
  {
   "cell_type": "code",
   "execution_count": 4,
   "metadata": {},
   "outputs": [
    {
     "name": "stdout",
     "output_type": "stream",
     "text": [
      "Dataset created and saved as 'comb_dataset_val.txt'\n"
     ]
    }
   ],
   "source": [
    "import numpy as np\n",
    "import glob\n",
    "\n",
    "def create_dataset(file_paths, class_labels):\n",
    "    dataset = []\n",
    "    for file_path, class_label in zip(file_paths, class_labels):\n",
    "        with open(file_path, 'r') as file:\n",
    "            for line in file:\n",
    "                features = list(map(float, line.strip().split()))  # Read 2D features\n",
    "                features.append(class_label)  # Add class label as the third column\n",
    "                dataset.append(features)\n",
    "    return np.array(dataset)\n",
    "\n",
    "# Define file paths and corresponding class labels\n",
    "file_paths = [\n",
    "    'classification_datasets\\linearlySeparable\\class1_val.txt',  # path to the file for class 1\n",
    "    'classification_datasets\\linearlySeparable\\class2_val.txt',  # path to the file for class 2\n",
    "    'classification_datasets\\linearlySeparable\\class3_val.txt',  # path to the file for class 3\n",
    "    'classification_datasets\\linearlySeparable\\class4_val.txt'   # path to the file for class 4\n",
    "]\n",
    "class_labels = ['1', '2', '3', '4']\n",
    "\n",
    "# Create dataset\n",
    "dataset = create_dataset(file_paths, class_labels)\n",
    "\n",
    "# Save to a new file with 3 columns (2 features + 1 class label)\n",
    "np.savetxt('classification_datasets\\linearlySeparable\\comb_dataset_val.txt', dataset, fmt='%s', delimiter=' ')\n",
    "\n",
    "print(\"Dataset created and saved as 'comb_dataset_val.txt'\")\n"
   ]
  },
  {
   "cell_type": "code",
   "execution_count": null,
   "metadata": {},
   "outputs": [],
   "source": []
  }
 ],
 "metadata": {
  "kernelspec": {
   "display_name": "unet_env",
   "language": "python",
   "name": "python3"
  },
  "language_info": {
   "codemirror_mode": {
    "name": "ipython",
    "version": 3
   },
   "file_extension": ".py",
   "mimetype": "text/x-python",
   "name": "python",
   "nbconvert_exporter": "python",
   "pygments_lexer": "ipython3",
   "version": "3.9.19"
  }
 },
 "nbformat": 4,
 "nbformat_minor": 2
}
